{
 "cells": [
  {
   "cell_type": "markdown",
   "metadata": {},
   "source": [
    "# Json Based Inventory Management System Project"
   ]
  },
  {
   "cell_type": "code",
   "execution_count": 1,
   "metadata": {},
   "outputs": [],
   "source": [
    "import json"
   ]
  },
  {
   "cell_type": "code",
   "execution_count": 2,
   "metadata": {},
   "outputs": [],
   "source": [
    "record = {\n",
    "    1001 : {'name':'Choco' , 'quantity':50,'price':190,'brand':'Parle','Flavour':'Sweet'},\n",
    "    1002 : {'name':'Cake' , 'quantity':10,'price':160,'brand':'Parle','Flavour':'Sweet'},\n",
    "    1003 : {'name':'Chocolate' , 'quantity':70,'price':150,'brand':'Parle','Flavour':'Sweet'},\n",
    "    1004 : {'name':'Biscuit' , 'quantity':80,'price':110,'brand':'Parle','Flavour':'Sweet'},\n",
    "    1005 : {'name':'Orange' , 'quantity':30,'price':130,'brand':'Fruit-c','Flavour':'Bitter'},\n",
    "    1006 : {'name':'Apple' , 'quantity':60,'price':140,'brand':'Fruit-c','Flavour':'Slightly-Bitter'},\n",
    "    1007 : {'name':'Kit-kat' , 'quantity':20,'price':160,'brand':'Cadbury','Flavour':'Sweet'},\n",
    "    1008 : {'name':'Munch' , 'quantity':70,'price':150,'brand':'Cadbury','Flavour':'Sweet'},\n",
    "    1009 : {'name':'Dairy-Milk' , 'quantity':20,'price':170,'brand':'Cadbury','Flavour':'Sweet'},\n",
    "    1010 : {'name':'Berlip-Tophy' , 'quantity':10,'price':1000,'brand':'Cadbury','Flavour':'Sweet'},\n",
    "    1011 : {'name':'Snacks' , 'quantity':90,'price':1989,'brand':'Parle','Flavour':'Sweet & Bitter'},\n",
    "    1012 : {'name':'Milk-Cake' , 'quantity':990,'price':1979,'brand':'Parle','Flavour':'Sweet'},\n",
    "    1013 : {'name':'Chat' , 'quantity':70,'price':1989,'brand':'Cadbury-Zms','Flavour':'Bitter'},\n",
    "    1014 : {'name':'Gol-Goppe' , 'quantity':60,'price':1900,'brand':'Cadbury-Zms','Flavour':'Bitter'},\n",
    "    1015 : {'name':'Ice-cream' , 'quantity':10,'price':1906,'brand':'Parle-Icecream','Flavour':'Sweet'},\n",
    "    1016 : {'name':'Cup-Icecream' , 'quantity':10,'price':190,'brand':'Parle-icecream','Flavour':'Sweet'},\n",
    "    1017 : {'name':'De-Ceceo' , 'quantity':143,'price':194,'brand':'Cadbury','Flavour':'Sweet'},\n",
    "    1018 : {'name':'Creamette' , 'quantity':1032,'price':344,'brand':'Parle','Flavour':'Sweet'},\n",
    "    1019 : {'name':'Barqs' , 'quantity':10,'price':198,'brand':'Parle','Flavour':'Sweet'},\n",
    "    1020 : {'name':'Plochmans' , 'quantity':10,'price':980,'brand':'Parle','Flavour':'Bitter'},\n",
    "    1021 : {'name':'Grey-Poupon' , 'quantity':198,'price':2343,'brand':'Parle','Flavour':'Sweet'},\n",
    "    1022 : {'name':'Vlasic' , 'quantity':10,'price':989,'brand':'Parle','Flavour':'Sweet'},\n",
    "    1023 : {'name':'ion-Sweets' , 'quantity':198,'price':1906,'brand':'Parle','Flavour':'Sweet'},\n",
    "    1024 : {'name':'Michigan-Sweets' , 'quantity':10,'price':189,'brand':'Parle','Flavour':'Sweet'},\n",
    "    1025 : {'name':'Milky-Choco' , 'quantity':167,'price':123,'brand':'Parle','Flavour':'Sweet'},\n",
    "    1026 : {'name':'Milk-Sweets' , 'quantity':100,'price':978,'brand':'Parle','Flavour':'Sweet'},\n",
    "    1027 : {'name':'Brestle' , 'quantity':90,'price':1906,'brand':'Parle','Flavour':'Sweet'},\n",
    "    1028 : {'name':'Cadbury-Choco' , 'quantity':1065,'price':89,'brand':'Parle','Flavour':'Sweet'},\n",
    "    1029 : {'name':'Mango-choco' , 'quantity':146,'price':1906,'brand':'Parle','Flavour':'Slightly-Bitter'},\n",
    "    1030 : {'name':'Khatta-Mitha' , 'quantity':123,'price':789,'brand':'Parle','Flavour':'Sweet & Bitter'}\n",
    "}"
   ]
  },
  {
   "cell_type": "code",
   "execution_count": 3,
   "metadata": {},
   "outputs": [
    {
     "data": {
      "text/plain": [
       "{1001: {'name': 'Choco',\n",
       "  'quantity': 50,\n",
       "  'price': 190,\n",
       "  'brand': 'Parle',\n",
       "  'Flavour': 'Sweet'},\n",
       " 1002: {'name': 'Cake',\n",
       "  'quantity': 10,\n",
       "  'price': 160,\n",
       "  'brand': 'Parle',\n",
       "  'Flavour': 'Sweet'},\n",
       " 1003: {'name': 'Chocolate',\n",
       "  'quantity': 70,\n",
       "  'price': 150,\n",
       "  'brand': 'Parle',\n",
       "  'Flavour': 'Sweet'},\n",
       " 1004: {'name': 'Biscuit',\n",
       "  'quantity': 80,\n",
       "  'price': 110,\n",
       "  'brand': 'Parle',\n",
       "  'Flavour': 'Sweet'},\n",
       " 1005: {'name': 'Orange',\n",
       "  'quantity': 30,\n",
       "  'price': 130,\n",
       "  'brand': 'Fruit-c',\n",
       "  'Flavour': 'Bitter'},\n",
       " 1006: {'name': 'Apple',\n",
       "  'quantity': 60,\n",
       "  'price': 140,\n",
       "  'brand': 'Fruit-c',\n",
       "  'Flavour': 'Slightly-Bitter'},\n",
       " 1007: {'name': 'Kit-kat',\n",
       "  'quantity': 20,\n",
       "  'price': 160,\n",
       "  'brand': 'Cadbury',\n",
       "  'Flavour': 'Sweet'},\n",
       " 1008: {'name': 'Munch',\n",
       "  'quantity': 70,\n",
       "  'price': 150,\n",
       "  'brand': 'Cadbury',\n",
       "  'Flavour': 'Sweet'},\n",
       " 1009: {'name': 'Dairy-Milk',\n",
       "  'quantity': 20,\n",
       "  'price': 170,\n",
       "  'brand': 'Cadbury',\n",
       "  'Flavour': 'Sweet'},\n",
       " 1010: {'name': 'Berlip-Tophy',\n",
       "  'quantity': 10,\n",
       "  'price': 1000,\n",
       "  'brand': 'Cadbury',\n",
       "  'Flavour': 'Sweet'},\n",
       " 1011: {'name': 'Snacks',\n",
       "  'quantity': 90,\n",
       "  'price': 1989,\n",
       "  'brand': 'Parle',\n",
       "  'Flavour': 'Sweet & Bitter'},\n",
       " 1012: {'name': 'Milk-Cake',\n",
       "  'quantity': 990,\n",
       "  'price': 1979,\n",
       "  'brand': 'Parle',\n",
       "  'Flavour': 'Sweet'},\n",
       " 1013: {'name': 'Chat',\n",
       "  'quantity': 70,\n",
       "  'price': 1989,\n",
       "  'brand': 'Cadbury-Zms',\n",
       "  'Flavour': 'Bitter'},\n",
       " 1014: {'name': 'Gol-Goppe',\n",
       "  'quantity': 60,\n",
       "  'price': 1900,\n",
       "  'brand': 'Cadbury-Zms',\n",
       "  'Flavour': 'Bitter'},\n",
       " 1015: {'name': 'Ice-cream',\n",
       "  'quantity': 10,\n",
       "  'price': 1906,\n",
       "  'brand': 'Parle-Icecream',\n",
       "  'Flavour': 'Sweet'},\n",
       " 1016: {'name': 'Cup-Icecream',\n",
       "  'quantity': 10,\n",
       "  'price': 190,\n",
       "  'brand': 'Parle-icecream',\n",
       "  'Flavour': 'Sweet'},\n",
       " 1017: {'name': 'De-Ceceo',\n",
       "  'quantity': 143,\n",
       "  'price': 194,\n",
       "  'brand': 'Cadbury',\n",
       "  'Flavour': 'Sweet'},\n",
       " 1018: {'name': 'Creamette',\n",
       "  'quantity': 1032,\n",
       "  'price': 344,\n",
       "  'brand': 'Parle',\n",
       "  'Flavour': 'Sweet'},\n",
       " 1019: {'name': 'Barqs',\n",
       "  'quantity': 10,\n",
       "  'price': 198,\n",
       "  'brand': 'Parle',\n",
       "  'Flavour': 'Sweet'},\n",
       " 1020: {'name': 'Plochmans',\n",
       "  'quantity': 10,\n",
       "  'price': 980,\n",
       "  'brand': 'Parle',\n",
       "  'Flavour': 'Bitter'},\n",
       " 1021: {'name': 'Grey-Poupon',\n",
       "  'quantity': 198,\n",
       "  'price': 2343,\n",
       "  'brand': 'Parle',\n",
       "  'Flavour': 'Sweet'},\n",
       " 1022: {'name': 'Vlasic',\n",
       "  'quantity': 10,\n",
       "  'price': 989,\n",
       "  'brand': 'Parle',\n",
       "  'Flavour': 'Sweet'},\n",
       " 1023: {'name': 'ion-Sweets',\n",
       "  'quantity': 198,\n",
       "  'price': 1906,\n",
       "  'brand': 'Parle',\n",
       "  'Flavour': 'Sweet'},\n",
       " 1024: {'name': 'Michigan-Sweets',\n",
       "  'quantity': 10,\n",
       "  'price': 189,\n",
       "  'brand': 'Parle',\n",
       "  'Flavour': 'Sweet'},\n",
       " 1025: {'name': 'Milky-Choco',\n",
       "  'quantity': 167,\n",
       "  'price': 123,\n",
       "  'brand': 'Parle',\n",
       "  'Flavour': 'Sweet'},\n",
       " 1026: {'name': 'Milk-Sweets',\n",
       "  'quantity': 100,\n",
       "  'price': 978,\n",
       "  'brand': 'Parle',\n",
       "  'Flavour': 'Sweet'},\n",
       " 1027: {'name': 'Brestle',\n",
       "  'quantity': 90,\n",
       "  'price': 1906,\n",
       "  'brand': 'Parle',\n",
       "  'Flavour': 'Sweet'},\n",
       " 1028: {'name': 'Cadbury-Choco',\n",
       "  'quantity': 1065,\n",
       "  'price': 89,\n",
       "  'brand': 'Parle',\n",
       "  'Flavour': 'Sweet'},\n",
       " 1029: {'name': 'Mango-choco',\n",
       "  'quantity': 146,\n",
       "  'price': 1906,\n",
       "  'brand': 'Parle',\n",
       "  'Flavour': 'Slightly-Bitter'},\n",
       " 1030: {'name': 'Khatta-Mitha',\n",
       "  'quantity': 123,\n",
       "  'price': 789,\n",
       "  'brand': 'Parle',\n",
       "  'Flavour': 'Sweet & Bitter'}}"
      ]
     },
     "execution_count": 3,
     "metadata": {},
     "output_type": "execute_result"
    }
   ],
   "source": [
    "record"
   ]
  },
  {
   "cell_type": "code",
   "execution_count": 4,
   "metadata": {},
   "outputs": [
    {
     "data": {
      "text/plain": [
       "'Milky-Choco'"
      ]
     },
     "execution_count": 4,
     "metadata": {},
     "output_type": "execute_result"
    }
   ],
   "source": [
    "record[1025]['name']"
   ]
  },
  {
   "cell_type": "code",
   "execution_count": 5,
   "metadata": {},
   "outputs": [
    {
     "data": {
      "text/plain": [
       "123"
      ]
     },
     "execution_count": 5,
     "metadata": {},
     "output_type": "execute_result"
    }
   ],
   "source": [
    "record[1025]['price']"
   ]
  },
  {
   "cell_type": "code",
   "execution_count": 6,
   "metadata": {},
   "outputs": [
    {
     "data": {
      "text/plain": [
       "'Sweet'"
      ]
     },
     "execution_count": 6,
     "metadata": {},
     "output_type": "execute_result"
    }
   ],
   "source": [
    "record[1025]['Flavour']"
   ]
  },
  {
   "cell_type": "code",
   "execution_count": 7,
   "metadata": {},
   "outputs": [
    {
     "data": {
      "text/plain": [
       "167"
      ]
     },
     "execution_count": 7,
     "metadata": {},
     "output_type": "execute_result"
    }
   ],
   "source": [
    "record[1025]['quantity']"
   ]
  },
  {
   "cell_type": "code",
   "execution_count": 8,
   "metadata": {},
   "outputs": [
    {
     "data": {
      "text/plain": [
       "'Parle'"
      ]
     },
     "execution_count": 8,
     "metadata": {},
     "output_type": "execute_result"
    }
   ],
   "source": [
    "record[1025]['brand']"
   ]
  },
  {
   "cell_type": "markdown",
   "metadata": {},
   "source": [
    "# Converting Dictionary into Json"
   ]
  },
  {
   "cell_type": "code",
   "execution_count": 9,
   "metadata": {},
   "outputs": [],
   "source": [
    "js=json.dumps(record)"
   ]
  },
  {
   "cell_type": "code",
   "execution_count": 10,
   "metadata": {},
   "outputs": [
    {
     "data": {
      "text/plain": [
       "'{\"1001\": {\"name\": \"Choco\", \"quantity\": 50, \"price\": 190, \"brand\": \"Parle\", \"Flavour\": \"Sweet\"}, \"1002\": {\"name\": \"Cake\", \"quantity\": 10, \"price\": 160, \"brand\": \"Parle\", \"Flavour\": \"Sweet\"}, \"1003\": {\"name\": \"Chocolate\", \"quantity\": 70, \"price\": 150, \"brand\": \"Parle\", \"Flavour\": \"Sweet\"}, \"1004\": {\"name\": \"Biscuit\", \"quantity\": 80, \"price\": 110, \"brand\": \"Parle\", \"Flavour\": \"Sweet\"}, \"1005\": {\"name\": \"Orange\", \"quantity\": 30, \"price\": 130, \"brand\": \"Fruit-c\", \"Flavour\": \"Bitter\"}, \"1006\": {\"name\": \"Apple\", \"quantity\": 60, \"price\": 140, \"brand\": \"Fruit-c\", \"Flavour\": \"Slightly-Bitter\"}, \"1007\": {\"name\": \"Kit-kat\", \"quantity\": 20, \"price\": 160, \"brand\": \"Cadbury\", \"Flavour\": \"Sweet\"}, \"1008\": {\"name\": \"Munch\", \"quantity\": 70, \"price\": 150, \"brand\": \"Cadbury\", \"Flavour\": \"Sweet\"}, \"1009\": {\"name\": \"Dairy-Milk\", \"quantity\": 20, \"price\": 170, \"brand\": \"Cadbury\", \"Flavour\": \"Sweet\"}, \"1010\": {\"name\": \"Berlip-Tophy\", \"quantity\": 10, \"price\": 1000, \"brand\": \"Cadbury\", \"Flavour\": \"Sweet\"}, \"1011\": {\"name\": \"Snacks\", \"quantity\": 90, \"price\": 1989, \"brand\": \"Parle\", \"Flavour\": \"Sweet & Bitter\"}, \"1012\": {\"name\": \"Milk-Cake\", \"quantity\": 990, \"price\": 1979, \"brand\": \"Parle\", \"Flavour\": \"Sweet\"}, \"1013\": {\"name\": \"Chat\", \"quantity\": 70, \"price\": 1989, \"brand\": \"Cadbury-Zms\", \"Flavour\": \"Bitter\"}, \"1014\": {\"name\": \"Gol-Goppe\", \"quantity\": 60, \"price\": 1900, \"brand\": \"Cadbury-Zms\", \"Flavour\": \"Bitter\"}, \"1015\": {\"name\": \"Ice-cream\", \"quantity\": 10, \"price\": 1906, \"brand\": \"Parle-Icecream\", \"Flavour\": \"Sweet\"}, \"1016\": {\"name\": \"Cup-Icecream\", \"quantity\": 10, \"price\": 190, \"brand\": \"Parle-icecream\", \"Flavour\": \"Sweet\"}, \"1017\": {\"name\": \"De-Ceceo\", \"quantity\": 143, \"price\": 194, \"brand\": \"Cadbury\", \"Flavour\": \"Sweet\"}, \"1018\": {\"name\": \"Creamette\", \"quantity\": 1032, \"price\": 344, \"brand\": \"Parle\", \"Flavour\": \"Sweet\"}, \"1019\": {\"name\": \"Barqs\", \"quantity\": 10, \"price\": 198, \"brand\": \"Parle\", \"Flavour\": \"Sweet\"}, \"1020\": {\"name\": \"Plochmans\", \"quantity\": 10, \"price\": 980, \"brand\": \"Parle\", \"Flavour\": \"Bitter\"}, \"1021\": {\"name\": \"Grey-Poupon\", \"quantity\": 198, \"price\": 2343, \"brand\": \"Parle\", \"Flavour\": \"Sweet\"}, \"1022\": {\"name\": \"Vlasic\", \"quantity\": 10, \"price\": 989, \"brand\": \"Parle\", \"Flavour\": \"Sweet\"}, \"1023\": {\"name\": \"ion-Sweets\", \"quantity\": 198, \"price\": 1906, \"brand\": \"Parle\", \"Flavour\": \"Sweet\"}, \"1024\": {\"name\": \"Michigan-Sweets\", \"quantity\": 10, \"price\": 189, \"brand\": \"Parle\", \"Flavour\": \"Sweet\"}, \"1025\": {\"name\": \"Milky-Choco\", \"quantity\": 167, \"price\": 123, \"brand\": \"Parle\", \"Flavour\": \"Sweet\"}, \"1026\": {\"name\": \"Milk-Sweets\", \"quantity\": 100, \"price\": 978, \"brand\": \"Parle\", \"Flavour\": \"Sweet\"}, \"1027\": {\"name\": \"Brestle\", \"quantity\": 90, \"price\": 1906, \"brand\": \"Parle\", \"Flavour\": \"Sweet\"}, \"1028\": {\"name\": \"Cadbury-Choco\", \"quantity\": 1065, \"price\": 89, \"brand\": \"Parle\", \"Flavour\": \"Sweet\"}, \"1029\": {\"name\": \"Mango-choco\", \"quantity\": 146, \"price\": 1906, \"brand\": \"Parle\", \"Flavour\": \"Slightly-Bitter\"}, \"1030\": {\"name\": \"Khatta-Mitha\", \"quantity\": 123, \"price\": 789, \"brand\": \"Parle\", \"Flavour\": \"Sweet & Bitter\"}}'"
      ]
     },
     "execution_count": 10,
     "metadata": {},
     "output_type": "execute_result"
    }
   ],
   "source": [
    "js"
   ]
  },
  {
   "cell_type": "markdown",
   "metadata": {},
   "source": [
    "# writting json data into record.json file"
   ]
  },
  {
   "cell_type": "code",
   "execution_count": 11,
   "metadata": {},
   "outputs": [],
   "source": [
    "fd=open(\"record.json\",'w')\n",
    "fd.write(js)\n",
    "fd.close()"
   ]
  },
  {
   "cell_type": "markdown",
   "metadata": {},
   "source": [
    "# Opening record.json File and reading it"
   ]
  },
  {
   "cell_type": "code",
   "execution_count": 12,
   "metadata": {},
   "outputs": [],
   "source": [
    "fd = open(\"record.json\" , 'r')\n",
    "txt = fd.read()\n",
    "fd.close()"
   ]
  },
  {
   "cell_type": "code",
   "execution_count": 13,
   "metadata": {},
   "outputs": [
    {
     "data": {
      "text/plain": [
       "'{\"1001\": {\"name\": \"Choco\", \"quantity\": 50, \"price\": 190, \"brand\": \"Parle\", \"Flavour\": \"Sweet\"}, \"1002\": {\"name\": \"Cake\", \"quantity\": 10, \"price\": 160, \"brand\": \"Parle\", \"Flavour\": \"Sweet\"}, \"1003\": {\"name\": \"Chocolate\", \"quantity\": 70, \"price\": 150, \"brand\": \"Parle\", \"Flavour\": \"Sweet\"}, \"1004\": {\"name\": \"Biscuit\", \"quantity\": 80, \"price\": 110, \"brand\": \"Parle\", \"Flavour\": \"Sweet\"}, \"1005\": {\"name\": \"Orange\", \"quantity\": 30, \"price\": 130, \"brand\": \"Fruit-c\", \"Flavour\": \"Bitter\"}, \"1006\": {\"name\": \"Apple\", \"quantity\": 60, \"price\": 140, \"brand\": \"Fruit-c\", \"Flavour\": \"Slightly-Bitter\"}, \"1007\": {\"name\": \"Kit-kat\", \"quantity\": 20, \"price\": 160, \"brand\": \"Cadbury\", \"Flavour\": \"Sweet\"}, \"1008\": {\"name\": \"Munch\", \"quantity\": 70, \"price\": 150, \"brand\": \"Cadbury\", \"Flavour\": \"Sweet\"}, \"1009\": {\"name\": \"Dairy-Milk\", \"quantity\": 20, \"price\": 170, \"brand\": \"Cadbury\", \"Flavour\": \"Sweet\"}, \"1010\": {\"name\": \"Berlip-Tophy\", \"quantity\": 10, \"price\": 1000, \"brand\": \"Cadbury\", \"Flavour\": \"Sweet\"}, \"1011\": {\"name\": \"Snacks\", \"quantity\": 90, \"price\": 1989, \"brand\": \"Parle\", \"Flavour\": \"Sweet & Bitter\"}, \"1012\": {\"name\": \"Milk-Cake\", \"quantity\": 990, \"price\": 1979, \"brand\": \"Parle\", \"Flavour\": \"Sweet\"}, \"1013\": {\"name\": \"Chat\", \"quantity\": 70, \"price\": 1989, \"brand\": \"Cadbury-Zms\", \"Flavour\": \"Bitter\"}, \"1014\": {\"name\": \"Gol-Goppe\", \"quantity\": 60, \"price\": 1900, \"brand\": \"Cadbury-Zms\", \"Flavour\": \"Bitter\"}, \"1015\": {\"name\": \"Ice-cream\", \"quantity\": 10, \"price\": 1906, \"brand\": \"Parle-Icecream\", \"Flavour\": \"Sweet\"}, \"1016\": {\"name\": \"Cup-Icecream\", \"quantity\": 10, \"price\": 190, \"brand\": \"Parle-icecream\", \"Flavour\": \"Sweet\"}, \"1017\": {\"name\": \"De-Ceceo\", \"quantity\": 143, \"price\": 194, \"brand\": \"Cadbury\", \"Flavour\": \"Sweet\"}, \"1018\": {\"name\": \"Creamette\", \"quantity\": 1032, \"price\": 344, \"brand\": \"Parle\", \"Flavour\": \"Sweet\"}, \"1019\": {\"name\": \"Barqs\", \"quantity\": 10, \"price\": 198, \"brand\": \"Parle\", \"Flavour\": \"Sweet\"}, \"1020\": {\"name\": \"Plochmans\", \"quantity\": 10, \"price\": 980, \"brand\": \"Parle\", \"Flavour\": \"Bitter\"}, \"1021\": {\"name\": \"Grey-Poupon\", \"quantity\": 198, \"price\": 2343, \"brand\": \"Parle\", \"Flavour\": \"Sweet\"}, \"1022\": {\"name\": \"Vlasic\", \"quantity\": 10, \"price\": 989, \"brand\": \"Parle\", \"Flavour\": \"Sweet\"}, \"1023\": {\"name\": \"ion-Sweets\", \"quantity\": 198, \"price\": 1906, \"brand\": \"Parle\", \"Flavour\": \"Sweet\"}, \"1024\": {\"name\": \"Michigan-Sweets\", \"quantity\": 10, \"price\": 189, \"brand\": \"Parle\", \"Flavour\": \"Sweet\"}, \"1025\": {\"name\": \"Milky-Choco\", \"quantity\": 167, \"price\": 123, \"brand\": \"Parle\", \"Flavour\": \"Sweet\"}, \"1026\": {\"name\": \"Milk-Sweets\", \"quantity\": 100, \"price\": 978, \"brand\": \"Parle\", \"Flavour\": \"Sweet\"}, \"1027\": {\"name\": \"Brestle\", \"quantity\": 90, \"price\": 1906, \"brand\": \"Parle\", \"Flavour\": \"Sweet\"}, \"1028\": {\"name\": \"Cadbury-Choco\", \"quantity\": 1065, \"price\": 89, \"brand\": \"Parle\", \"Flavour\": \"Sweet\"}, \"1029\": {\"name\": \"Mango-choco\", \"quantity\": 146, \"price\": 1906, \"brand\": \"Parle\", \"Flavour\": \"Slightly-Bitter\"}, \"1030\": {\"name\": \"Khatta-Mitha\", \"quantity\": 123, \"price\": 789, \"brand\": \"Parle\", \"Flavour\": \"Sweet & Bitter\"}}'"
      ]
     },
     "execution_count": 13,
     "metadata": {},
     "output_type": "execute_result"
    }
   ],
   "source": [
    "txt"
   ]
  },
  {
   "cell_type": "markdown",
   "metadata": {},
   "source": [
    "# Adding New Product/Item Into The Inventory"
   ]
  },
  {
   "cell_type": "code",
   "execution_count": 14,
   "metadata": {},
   "outputs": [
    {
     "name": "stdout",
     "output_type": "stream",
     "text": [
      "Enter Product Id..1035\n",
      "Enter Product Name..Barfi\n",
      "Enter Product Quantity..167\n",
      "Enter Product Price..300\n",
      "Enter Product Brand..Goldiee\n",
      "Enter Product Flavour..Sweet\n"
     ]
    }
   ],
   "source": [
    "prod_id = int(input(\"Enter Product Id..\"))\n",
    "name = input(\"Enter Product Name..\")\n",
    "quantity = int(input(\"Enter Product Quantity..\"))\n",
    "price = int(input(\"Enter Product Price..\"))\n",
    "Brand = input(\"Enter Product Brand..\")\n",
    "Flavour = input(\"Enter Product Flavour..\")\n",
    "record[prod_id] = {'name':name , 'quantity':quantity , 'price':price , 'brand':Brand , 'Flavour':Flavour}\n",
    "js = json.dumps(record)\n",
    "fd=open(\"record.json\",'w')\n",
    "fd.write(js)\n",
    "fd.close()"
   ]
  },
  {
   "cell_type": "code",
   "execution_count": 15,
   "metadata": {},
   "outputs": [],
   "source": [
    "fd = open(\"record.json\" , 'r')\n",
    "txt = fd.read()\n",
    "fd.close()"
   ]
  },
  {
   "cell_type": "code",
   "execution_count": 16,
   "metadata": {},
   "outputs": [
    {
     "data": {
      "text/plain": [
       "'{\"1001\": {\"name\": \"Choco\", \"quantity\": 50, \"price\": 190, \"brand\": \"Parle\", \"Flavour\": \"Sweet\"}, \"1002\": {\"name\": \"Cake\", \"quantity\": 10, \"price\": 160, \"brand\": \"Parle\", \"Flavour\": \"Sweet\"}, \"1003\": {\"name\": \"Chocolate\", \"quantity\": 70, \"price\": 150, \"brand\": \"Parle\", \"Flavour\": \"Sweet\"}, \"1004\": {\"name\": \"Biscuit\", \"quantity\": 80, \"price\": 110, \"brand\": \"Parle\", \"Flavour\": \"Sweet\"}, \"1005\": {\"name\": \"Orange\", \"quantity\": 30, \"price\": 130, \"brand\": \"Fruit-c\", \"Flavour\": \"Bitter\"}, \"1006\": {\"name\": \"Apple\", \"quantity\": 60, \"price\": 140, \"brand\": \"Fruit-c\", \"Flavour\": \"Slightly-Bitter\"}, \"1007\": {\"name\": \"Kit-kat\", \"quantity\": 20, \"price\": 160, \"brand\": \"Cadbury\", \"Flavour\": \"Sweet\"}, \"1008\": {\"name\": \"Munch\", \"quantity\": 70, \"price\": 150, \"brand\": \"Cadbury\", \"Flavour\": \"Sweet\"}, \"1009\": {\"name\": \"Dairy-Milk\", \"quantity\": 20, \"price\": 170, \"brand\": \"Cadbury\", \"Flavour\": \"Sweet\"}, \"1010\": {\"name\": \"Berlip-Tophy\", \"quantity\": 10, \"price\": 1000, \"brand\": \"Cadbury\", \"Flavour\": \"Sweet\"}, \"1011\": {\"name\": \"Snacks\", \"quantity\": 90, \"price\": 1989, \"brand\": \"Parle\", \"Flavour\": \"Sweet & Bitter\"}, \"1012\": {\"name\": \"Milk-Cake\", \"quantity\": 990, \"price\": 1979, \"brand\": \"Parle\", \"Flavour\": \"Sweet\"}, \"1013\": {\"name\": \"Chat\", \"quantity\": 70, \"price\": 1989, \"brand\": \"Cadbury-Zms\", \"Flavour\": \"Bitter\"}, \"1014\": {\"name\": \"Gol-Goppe\", \"quantity\": 60, \"price\": 1900, \"brand\": \"Cadbury-Zms\", \"Flavour\": \"Bitter\"}, \"1015\": {\"name\": \"Ice-cream\", \"quantity\": 10, \"price\": 1906, \"brand\": \"Parle-Icecream\", \"Flavour\": \"Sweet\"}, \"1016\": {\"name\": \"Cup-Icecream\", \"quantity\": 10, \"price\": 190, \"brand\": \"Parle-icecream\", \"Flavour\": \"Sweet\"}, \"1017\": {\"name\": \"De-Ceceo\", \"quantity\": 143, \"price\": 194, \"brand\": \"Cadbury\", \"Flavour\": \"Sweet\"}, \"1018\": {\"name\": \"Creamette\", \"quantity\": 1032, \"price\": 344, \"brand\": \"Parle\", \"Flavour\": \"Sweet\"}, \"1019\": {\"name\": \"Barqs\", \"quantity\": 10, \"price\": 198, \"brand\": \"Parle\", \"Flavour\": \"Sweet\"}, \"1020\": {\"name\": \"Plochmans\", \"quantity\": 10, \"price\": 980, \"brand\": \"Parle\", \"Flavour\": \"Bitter\"}, \"1021\": {\"name\": \"Grey-Poupon\", \"quantity\": 198, \"price\": 2343, \"brand\": \"Parle\", \"Flavour\": \"Sweet\"}, \"1022\": {\"name\": \"Vlasic\", \"quantity\": 10, \"price\": 989, \"brand\": \"Parle\", \"Flavour\": \"Sweet\"}, \"1023\": {\"name\": \"ion-Sweets\", \"quantity\": 198, \"price\": 1906, \"brand\": \"Parle\", \"Flavour\": \"Sweet\"}, \"1024\": {\"name\": \"Michigan-Sweets\", \"quantity\": 10, \"price\": 189, \"brand\": \"Parle\", \"Flavour\": \"Sweet\"}, \"1025\": {\"name\": \"Milky-Choco\", \"quantity\": 167, \"price\": 123, \"brand\": \"Parle\", \"Flavour\": \"Sweet\"}, \"1026\": {\"name\": \"Milk-Sweets\", \"quantity\": 100, \"price\": 978, \"brand\": \"Parle\", \"Flavour\": \"Sweet\"}, \"1027\": {\"name\": \"Brestle\", \"quantity\": 90, \"price\": 1906, \"brand\": \"Parle\", \"Flavour\": \"Sweet\"}, \"1028\": {\"name\": \"Cadbury-Choco\", \"quantity\": 1065, \"price\": 89, \"brand\": \"Parle\", \"Flavour\": \"Sweet\"}, \"1029\": {\"name\": \"Mango-choco\", \"quantity\": 146, \"price\": 1906, \"brand\": \"Parle\", \"Flavour\": \"Slightly-Bitter\"}, \"1030\": {\"name\": \"Khatta-Mitha\", \"quantity\": 123, \"price\": 789, \"brand\": \"Parle\", \"Flavour\": \"Sweet & Bitter\"}, \"1035\": {\"name\": \"Barfi\", \"quantity\": 167, \"price\": 300, \"brand\": \"Goldiee\", \"Flavour\": \"Sweet\"}}'"
      ]
     },
     "execution_count": 16,
     "metadata": {},
     "output_type": "execute_result"
    }
   ],
   "source": [
    "txt"
   ]
  },
  {
   "cell_type": "markdown",
   "metadata": {},
   "source": [
    "# Purchasing and Billing Amount For Product"
   ]
  },
  {
   "cell_type": "code",
   "execution_count": 17,
   "metadata": {},
   "outputs": [
    {
     "name": "stdout",
     "output_type": "stream",
     "text": [
      "plz , Enter Product Id That You Want to Purchase1035\n",
      "plz , Enter Product Quantity120\n",
      "Dear Sir/Mam  , The Product You Ordered is : Barfi\n",
      "Dear Sir/Mam  , The Price for Ordered Product is : 300\n",
      "************************************************************************************************\n",
      "Dear Sir/Mam , Kindly Pay the Bill it is only Rs. : 36000\n",
      "..Thankyou Very Much For Giving Me this Opportunity to serve you..\n",
      "************************************************************************************************\n"
     ]
    }
   ],
   "source": [
    "pro_id = int(input(\"plz , Enter Product Id That You Want to Purchase\"))\n",
    "pro_quant = int(input(\"plz , Enter Product Quantity\"))\n",
    "print(\"Dear Sir/Mam  , The Product You Ordered is :\" ,record[pro_id]['name'])\n",
    "print(\"Dear Sir/Mam  , The Price for Ordered Product is :\" ,record[pro_id]['price'])\n",
    "print(\"************************************************************************************************\")\n",
    "print(\"Dear Sir/Mam , Kindly Pay the Bill it is only Rs. :\" ,record[pro_id]['price']*pro_quant)\n",
    "print(\"..Thankyou Very Much For Giving Me this Opportunity to serve you..\")\n",
    "print(\"************************************************************************************************\")"
   ]
  },
  {
   "cell_type": "markdown",
   "metadata": {},
   "source": [
    "# Updating Inventory After Purchasing Product"
   ]
  },
  {
   "cell_type": "code",
   "execution_count": 18,
   "metadata": {},
   "outputs": [],
   "source": [
    "record[pro_id]['quantity'] =  record[pro_id]['quantity'] - pro_quant\n",
    "js=json.dumps(record)\n",
    "fd=open(\"record.json\",'w')\n",
    "fd.write(js)\n",
    "fd.close()"
   ]
  },
  {
   "cell_type": "markdown",
   "metadata": {},
   "source": [
    "# Discounts on Different Brand"
   ]
  },
  {
   "cell_type": "code",
   "execution_count": 20,
   "metadata": {},
   "outputs": [
    {
     "name": "stdout",
     "output_type": "stream",
     "text": [
      "We Have Dicounts For Our Brands so Plz , Enter Brand For DiscountsFruit-c\n",
      "Amazing!Sir/Mam ,You Got 10% Off.. \n"
     ]
    }
   ],
   "source": [
    "Br = input(\"We Have Dicounts For Our Brands so Plz , Enter Brand For Discounts\")\n",
    "if(Br=='Cadbury'):\n",
    "    print(\"Amazing!Sir/Mam ,You Got 50% Off.. \")\n",
    "if(Br=='Parle'):\n",
    "    print(\"Amazing!Sir/Mam ,You Got 30% Off.. \")\n",
    "if(Br=='Fruit-c'):\n",
    "    print(\"Amazing!Sir/Mam ,You Got 10% Off.. \")"
   ]
  },
  {
   "cell_type": "code",
   "execution_count": null,
   "metadata": {},
   "outputs": [],
   "source": []
  }
 ],
 "metadata": {
  "kernelspec": {
   "display_name": "Python 3",
   "language": "python",
   "name": "python3"
  },
  "language_info": {
   "codemirror_mode": {
    "name": "ipython",
    "version": 3
   },
   "file_extension": ".py",
   "mimetype": "text/x-python",
   "name": "python",
   "nbconvert_exporter": "python",
   "pygments_lexer": "ipython3",
   "version": "3.8.5"
  }
 },
 "nbformat": 4,
 "nbformat_minor": 4
}
